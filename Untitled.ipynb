{
 "cells": [
  {
   "cell_type": "code",
   "execution_count": 10,
   "id": "fe46c0a6",
   "metadata": {},
   "outputs": [
    {
     "name": "stdout",
     "output_type": "stream",
     "text": [
      "Requirement already satisfied: xmltodict in c:\\users\\chltp\\anaconda3\\envs\\areyouok\\lib\\site-packages (0.12.0)\n",
      "Requirement already satisfied: lxml in c:\\users\\chltp\\anaconda3\\envs\\areyouok\\lib\\site-packages (4.6.3)\n",
      "Requirement already satisfied: opencv-python in c:\\users\\chltp\\anaconda3\\envs\\areyouok\\lib\\site-packages (3.4.2.17)\n",
      "Requirement already satisfied: numpy>=1.14.5 in c:\\users\\chltp\\anaconda3\\envs\\areyouok\\lib\\site-packages (from opencv-python) (1.20.3)\n",
      "Requirement already satisfied: numpy in c:\\users\\chltp\\anaconda3\\envs\\areyouok\\lib\\site-packages (1.20.3)\n",
      "Requirement already satisfied: matplotlib in c:\\users\\chltp\\anaconda3\\envs\\areyouok\\lib\\site-packages (3.4.2)\n",
      "Requirement already satisfied: python-dateutil>=2.7 in c:\\users\\chltp\\anaconda3\\envs\\areyouok\\lib\\site-packages (from matplotlib) (2.8.2)\n",
      "Requirement already satisfied: kiwisolver>=1.0.1 in c:\\users\\chltp\\anaconda3\\envs\\areyouok\\lib\\site-packages (from matplotlib) (1.3.1)\n",
      "Requirement already satisfied: pyparsing>=2.2.1 in c:\\users\\chltp\\anaconda3\\envs\\areyouok\\lib\\site-packages (from matplotlib) (2.4.7)\n",
      "Requirement already satisfied: cycler>=0.10 in c:\\users\\chltp\\anaconda3\\envs\\areyouok\\lib\\site-packages (from matplotlib) (0.10.0)\n",
      "Requirement already satisfied: pillow>=6.2.0 in c:\\users\\chltp\\anaconda3\\envs\\areyouok\\lib\\site-packages (from matplotlib) (8.3.1)\n",
      "Requirement already satisfied: numpy>=1.16 in c:\\users\\chltp\\anaconda3\\envs\\areyouok\\lib\\site-packages (from matplotlib) (1.20.3)\n",
      "Requirement already satisfied: six in c:\\users\\chltp\\anaconda3\\envs\\areyouok\\lib\\site-packages (from cycler>=0.10->matplotlib) (1.16.0)\n"
     ]
    }
   ],
   "source": [
    "!pip install xmltodict\n",
    "!pip install lxml\n",
    "!pip install opencv-python\n",
    "!pip install numpy\n",
    "!pip install matplotlib"
   ]
  },
  {
   "cell_type": "code",
   "execution_count": 30,
   "id": "0bf44172",
   "metadata": {
    "scrolled": true
   },
   "outputs": [],
   "source": [
    "from lxml import etree;\n",
    "from PIL import Image\n",
    "import xmltodict, cv2, os\n",
    "import xml.etree.ElementTree as ET"
   ]
  },
  {
   "cell_type": "code",
   "execution_count": 20,
   "id": "4dc3f52e",
   "metadata": {},
   "outputs": [
    {
     "name": "stdout",
     "output_type": "stream",
     "text": [
      "[['pushing', 4817, 4860], ['pushing', 4887, 4936], ['pushing', 5067, 5091], ['pushing', 5149, 5149], ['pulling', 5248, 5647], ['pulling', 6048, 6102], ['pulling', 6592, 6707], ['pulling', 6826, 6893], ['pulling', 7200, 7258], ['threaten', 5593, 5624], ['threaten', 6408, 6435], ['threaten', 6709, 6734], ['threaten', 7829, 7861], ['threaten', 8134, 8174], ['threaten', 8604, 8643], ['punching', 4890, 4919], ['pulling', 4925, 5065], ['pulling', 5069, 5151], ['pulling', 5553, 5646], ['pulling', 6616, 6722], ['pulling', 7249, 7284], ['pushing', 7284, 7316], ['threaten', 6004, 6037]]\n",
      "['pushing', 'pulling', 'threaten', 'punching', 'pulling', 'pushing', 'threaten']\n"
     ]
    }
   ],
   "source": [
    "#xml 파일 불러옴\n",
    "xml_file = 'C:/Users/chltp/Downloads/이상행동 CCTV 영상/02.싸움(fight)/insidedoor_07/45-6/45-6_cam01_fight01_place01_day_summer.xml'\n",
    "doc = ET.parse(xml_file)\n",
    "root = doc.getroot()\n",
    "dic = []\n",
    "action_list = []\n",
    "action_name = []\n",
    "\n",
    "action_list=root.findall(\"./object/action\")\n",
    "for i in action_list:\n",
    "    for frame in i.findall(\"frame\"):\n",
    "        dic.append([i.find(\"actionname\").text, int(frame.find(\"start\").text), int(frame.find(\"end\").text)])\n",
    "for action in root.iter(\"action\"):\n",
    "    action_name.append(action.find(\"actionname\").text)\n",
    "    \n",
    "print(dic)\n",
    "print(action_name)"
   ]
  },
  {
   "cell_type": "code",
   "execution_count": 31,
   "id": "aa0a4d51",
   "metadata": {
    "scrolled": true
   },
   "outputs": [
    {
     "ename": "KeyboardInterrupt",
     "evalue": "",
     "output_type": "error",
     "traceback": [
      "\u001b[1;31m---------------------------------------------------------------------------\u001b[0m",
      "\u001b[1;31mKeyboardInterrupt\u001b[0m                         Traceback (most recent call last)",
      "\u001b[1;32m<ipython-input-31-a7cca30ac3db>\u001b[0m in \u001b[0;36m<module>\u001b[1;34m\u001b[0m\n\u001b[0;32m     13\u001b[0m \u001b[1;33m\u001b[0m\u001b[0m\n\u001b[0;32m     14\u001b[0m \u001b[1;32mwhile\u001b[0m \u001b[0msuccess\u001b[0m\u001b[1;33m:\u001b[0m\u001b[1;33m\u001b[0m\u001b[1;33m\u001b[0m\u001b[0m\n\u001b[1;32m---> 15\u001b[1;33m     \u001b[0msuccess\u001b[0m\u001b[1;33m,\u001b[0m\u001b[0mimage\u001b[0m \u001b[1;33m=\u001b[0m \u001b[0mvidcap\u001b[0m\u001b[1;33m.\u001b[0m\u001b[0mread\u001b[0m\u001b[1;33m(\u001b[0m\u001b[1;33m)\u001b[0m\u001b[1;33m\u001b[0m\u001b[1;33m\u001b[0m\u001b[0m\n\u001b[0m\u001b[0;32m     16\u001b[0m     \u001b[1;32mif\u001b[0m\u001b[1;33m(\u001b[0m\u001b[0mint\u001b[0m\u001b[1;33m(\u001b[0m\u001b[0mvidcap\u001b[0m\u001b[1;33m.\u001b[0m\u001b[0mget\u001b[0m\u001b[1;33m(\u001b[0m\u001b[1;36m1\u001b[0m\u001b[1;33m)\u001b[0m\u001b[1;33m)\u001b[0m \u001b[1;33m%\u001b[0m \u001b[1;36m1\u001b[0m \u001b[1;33m==\u001b[0m \u001b[1;36m0\u001b[0m\u001b[1;33m)\u001b[0m\u001b[1;33m:\u001b[0m\u001b[1;33m\u001b[0m\u001b[1;33m\u001b[0m\u001b[0m\n\u001b[0;32m     17\u001b[0m         \u001b[1;31m#print('Saved frame number : ' + str(int(vidcap.get(1))))\u001b[0m\u001b[1;33m\u001b[0m\u001b[1;33m\u001b[0m\u001b[1;33m\u001b[0m\u001b[0m\n",
      "\u001b[1;31mKeyboardInterrupt\u001b[0m: "
     ]
    }
   ],
   "source": [
    "vidcap = cv2.VideoCapture('C:/Users/chltp/Downloads/이상행동 CCTV 영상/02.싸움(fight)/insidedoor_07/45-6/45-6_cam01_fight01_place01_day_summer.mp4')\n",
    "success,image = vidcap.read()\n",
    "\n",
    "count = 1\n",
    "success = True\n",
    "\n",
    "# for i in action_name:\n",
    "#     try: #name 폴더 만들기\n",
    "#         print(\"./\" + i)\n",
    "#         os.makedirs(\"./\" + i)\n",
    "#     except:\n",
    "#         pass\n",
    "\n",
    "while success:\n",
    "    success,image = vidcap.read()\n",
    "    if(int(vidcap.get(1)) % 1 == 0):\n",
    "        #print('Saved frame number : ' + str(int(vidcap.get(1))))\n",
    "        count += 1\n",
    "        for i in dic:\n",
    "            if i[1]<= count and count <= i[2]:\n",
    "                cv2.imwrite(\"./test/%d.jpg\" % count, image)\n",
    "                print('Saved frame%d.jpg' % count)\n",
    "            else: continue\n",
    "        \n",
    "vidcap.release()"
   ]
  },
  {
   "cell_type": "code",
   "execution_count": 34,
   "id": "2431b2da",
   "metadata": {
    "scrolled": true
   },
   "outputs": [
    {
     "ename": "error",
     "evalue": "OpenCV(3.4.2) C:\\projects\\opencv-python\\opencv\\modules\\imgproc\\src\\resize.cpp:4044: error: (-215:Assertion failed) !ssize.empty() in function 'cv::resize'\n",
     "output_type": "error",
     "traceback": [
      "\u001b[1;31m---------------------------------------------------------------------------\u001b[0m",
      "\u001b[1;31merror\u001b[0m                                     Traceback (most recent call last)",
      "\u001b[1;32m<ipython-input-34-a0da1fa4c0d2>\u001b[0m in \u001b[0;36m<module>\u001b[1;34m\u001b[0m\n\u001b[0;32m      4\u001b[0m     \u001b[1;31m#res = img[250:1300, 1200:3300]\u001b[0m\u001b[1;33m\u001b[0m\u001b[1;33m\u001b[0m\u001b[1;33m\u001b[0m\u001b[0m\n\u001b[0;32m      5\u001b[0m     \u001b[1;31m#원본 영상 크기 3840X216\u001b[0m\u001b[1;33m\u001b[0m\u001b[1;33m\u001b[0m\u001b[1;33m\u001b[0m\u001b[0m\n\u001b[1;32m----> 6\u001b[1;33m     \u001b[0mimgResize\u001b[0m \u001b[1;33m=\u001b[0m \u001b[0mcv2\u001b[0m\u001b[1;33m.\u001b[0m\u001b[0mresize\u001b[0m\u001b[1;33m(\u001b[0m\u001b[0mimg\u001b[0m\u001b[1;33m,\u001b[0m \u001b[1;33m(\u001b[0m\u001b[1;36m768\u001b[0m\u001b[1;33m,\u001b[0m\u001b[1;36m432\u001b[0m\u001b[1;33m)\u001b[0m\u001b[1;33m)\u001b[0m\u001b[1;33m\u001b[0m\u001b[1;33m\u001b[0m\u001b[0m\n\u001b[0m\u001b[0;32m      7\u001b[0m     \u001b[1;31m#imgResize = cv2.resize(img, (1152,648))\u001b[0m\u001b[1;33m\u001b[0m\u001b[1;33m\u001b[0m\u001b[1;33m\u001b[0m\u001b[0m\n\u001b[0;32m      8\u001b[0m     \u001b[0mcv2\u001b[0m\u001b[1;33m.\u001b[0m\u001b[0mimwrite\u001b[0m\u001b[1;33m(\u001b[0m\u001b[1;34m\"./test/\"\u001b[0m\u001b[1;33m+\u001b[0m\u001b[0mstr\u001b[0m\u001b[1;33m(\u001b[0m\u001b[0mi\u001b[0m\u001b[1;33m+\u001b[0m\u001b[1;36m5\u001b[0m\u001b[1;33m)\u001b[0m\u001b[1;33m+\u001b[0m\u001b[1;34m\".jpg\"\u001b[0m\u001b[1;33m,\u001b[0m \u001b[0mimgResize\u001b[0m\u001b[1;33m)\u001b[0m\u001b[1;33m\u001b[0m\u001b[1;33m\u001b[0m\u001b[0m\n",
      "\u001b[1;31merror\u001b[0m: OpenCV(3.4.2) C:\\projects\\opencv-python\\opencv\\modules\\imgproc\\src\\resize.cpp:4044: error: (-215:Assertion failed) !ssize.empty() in function 'cv::resize'\n"
     ]
    }
   ],
   "source": [
    "for i in range(5):\n",
    "    j = 10*i + 7284\n",
    "    img = cv2.imread(\"./test/\"+str(j)+\".jpg\")            \n",
    "    #res = img[250:1300, 1200:3300]\n",
    "    #원본 영상 크기 3840X216\n",
    "    #imgResize = cv2.resize(img, (768,432))\n",
    "    imgResize = cv2.resize(img, (1152,648))\n",
    "    cv2.imwrite(\"./test/\"+str(i+5)+\".jpg\", imgResize)"
   ]
  },
  {
   "cell_type": "code",
   "execution_count": null,
   "id": "d83351f6",
   "metadata": {},
   "outputs": [],
   "source": []
  }
 ],
 "metadata": {
  "kernelspec": {
   "display_name": "Python 3",
   "language": "python",
   "name": "python3"
  },
  "language_info": {
   "codemirror_mode": {
    "name": "ipython",
    "version": 3
   },
   "file_extension": ".py",
   "mimetype": "text/x-python",
   "name": "python",
   "nbconvert_exporter": "python",
   "pygments_lexer": "ipython3",
   "version": "3.7.10"
  }
 },
 "nbformat": 4,
 "nbformat_minor": 5
}
